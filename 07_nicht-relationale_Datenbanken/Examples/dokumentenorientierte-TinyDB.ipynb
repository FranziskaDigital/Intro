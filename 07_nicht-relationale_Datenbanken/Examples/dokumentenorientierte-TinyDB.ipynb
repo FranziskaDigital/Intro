{
 "cells": [
  {
   "cell_type": "code",
   "execution_count": null,
   "id": "4da927bc-28b3-4cec-8ce5-93c794494371",
   "metadata": {},
   "outputs": [],
   "source": [
    "conda install tinydb"
   ]
  },
  {
   "cell_type": "code",
   "execution_count": 1,
   "id": "b4f9a772-be3a-4f3d-93bc-bd7f280b279f",
   "metadata": {},
   "outputs": [],
   "source": [
    "#Erstellen einer Datenbank\n",
    "\n",
    "from tinydb import TinyDB\n",
    "db = TinyDB('db_Inventar.json')"
   ]
  },
  {
   "cell_type": "code",
   "execution_count": 2,
   "id": "3d47cc12-1a97-417e-8455-66ecfcc99bb3",
   "metadata": {},
   "outputs": [
    {
     "data": {
      "text/plain": [
       "1"
      ]
     },
     "execution_count": 2,
     "metadata": {},
     "output_type": "execute_result"
    }
   ],
   "source": [
    "# JSON-Dokument einfügen\n",
    "db.insert({\n",
    "    \"stadt\": \"Mainz\",\n",
    "    \"strassen\": [\n",
    "        {\n",
    "            \"name\": \"Leichhof\",\n",
    "            \"hausnummern\": [\n",
    "                {\n",
    "                    \"nummer\": \"12\",\n",
    "                    \"denkmale\": [\n",
    "                        {\n",
    "                            \"typ\": \"Haus\",\n",
    "                            \"beschreibung\": \"Gotisches Bürgerhaus aus dem 15. Jahrhundert\",\n",
    "                            \"material\": \"Sandstein\",\n",
    "                            \"epoche\": \"Gotik\",\n",
    "                            \"kuenstler\": \"Unbekannt\",\n",
    "                            \"besonderheiten\": \"Spitzbogenfenster mit Maßwerk\"\n",
    "                        }\n",
    "                    ]\n",
    "                },\n",
    "                {\n",
    "                    \"nummer\": \"23\",\n",
    "                    \"denkmale\": [\n",
    "                        {\n",
    "                            \"typ\": \"Kunstwerk\",\n",
    "                            \"beschreibung\": \"Barockes Wandrelief\",\n",
    "                            \"material\": \"Marmor\",\n",
    "                            \"epoche\": \"Barock\",\n",
    "                            \"kuenstler\": \"Peter Paul Rubens\",\n",
    "                            \"besonderheiten\": \"Detailreiche Darstellung eines Engels\"\n",
    "                        }\n",
    "                    ]\n",
    "                }\n",
    "            ]\n",
    "        }\n",
    "    ]\n",
    "})"
   ]
  },
  {
   "cell_type": "code",
   "execution_count": 4,
   "id": "a4934d9d-936b-47ab-81e2-9531bf667667",
   "metadata": {},
   "outputs": [
    {
     "name": "stdout",
     "output_type": "stream",
     "text": [
      "[{'stadt': 'Mainz', 'strassen': [{'name': 'Leichhof', 'hausnummern': [{'nummer': '12', 'denkmale': [{'typ': 'Haus', 'beschreibung': 'Gotisches Bürgerhaus aus dem 15. Jahrhundert', 'material': 'Sandstein', 'epoche': 'Gotik', 'kuenstler': 'Unbekannt', 'besonderheiten': 'Spitzbogenfenster mit Maßwerk'}]}, {'nummer': '23', 'denkmale': [{'typ': 'Kunstwerk', 'beschreibung': 'Barockes Wandrelief', 'material': 'Marmor', 'epoche': 'Barock', 'kuenstler': 'Peter Paul Rubens', 'besonderheiten': 'Detailreiche Darstellung eines Engels'}]}]}]}]\n"
     ]
    }
   ],
   "source": [
    "# Abfrage Nr. 1\n",
    "\n",
    "from tinydb import Query\n",
    "\n",
    "# Alle Daten in der Datenbank anzeigen\n",
    "print(db.all())"
   ]
  },
  {
   "cell_type": "code",
   "execution_count": 5,
   "id": "429061b0-2f47-4a5a-b2b9-4a28f98998f2",
   "metadata": {},
   "outputs": [
    {
     "name": "stdout",
     "output_type": "stream",
     "text": [
      "[{'stadt': 'Mainz', 'strassen': [{'name': 'Leichhof', 'hausnummern': [{'nummer': '12', 'denkmale': [{'typ': 'Haus', 'beschreibung': 'Gotisches Bürgerhaus aus dem 15. Jahrhundert', 'material': 'Sandstein', 'epoche': 'Gotik', 'kuenstler': 'Unbekannt', 'besonderheiten': 'Spitzbogenfenster mit Maßwerk'}]}, {'nummer': '23', 'denkmale': [{'typ': 'Kunstwerk', 'beschreibung': 'Barockes Wandrelief', 'material': 'Marmor', 'epoche': 'Barock', 'kuenstler': 'Peter Paul Rubens', 'besonderheiten': 'Detailreiche Darstellung eines Engels'}]}]}]}]\n"
     ]
    }
   ],
   "source": [
    "# Abfrage Nr. 2\n",
    "\n",
    "result = db.search(Query().strassen.any(lambda x: x['name'] == \"Leichhof\"))\n",
    "print(result)\n"
   ]
  },
  {
   "cell_type": "code",
   "execution_count": 10,
   "id": "b6321897-f731-40c2-82d3-690f64de7e65",
   "metadata": {},
   "outputs": [
    {
     "name": "stdout",
     "output_type": "stream",
     "text": [
      "[{'stadt': 'Mainz', 'strassen': [{'name': 'Leichhof', 'hausnummern': [{'nummer': '12', 'denkmale': [{'typ': 'Haus', 'beschreibung': 'Gotisches Bürgerhaus aus dem 15. Jahrhundert', 'material': 'Sandstein', 'epoche': 'Gotik', 'kuenstler': 'Unbekannt', 'besonderheiten': 'Spitzbogenfenster mit Maßwerk'}]}, {'nummer': '23', 'denkmale': [{'typ': 'Kunstwerk', 'beschreibung': 'Barockes Wandrelief', 'material': 'Marmor', 'epoche': 'Barock', 'kuenstler': 'Peter Paul Rubens', 'besonderheiten': 'Detailreiche Darstellung eines Engels'}]}]}]}]\n"
     ]
    }
   ],
   "source": [
    "# Alternative zu Abfrage Nr. 2\n",
    "def is_leichhof(street):\n",
    "    return street['name'] == \"Leichhof\"\n",
    "\n",
    "result = db.search(Query().strassen.any(is_leichhof))\n",
    "print(result)\n"
   ]
  },
  {
   "cell_type": "code",
   "execution_count": 8,
   "id": "547ee087-3d93-4476-80ab-93b6e65a8616",
   "metadata": {},
   "outputs": [
    {
     "name": "stdout",
     "output_type": "stream",
     "text": [
      "[{'nummer': '12', 'denkmale': [{'typ': 'Haus', 'beschreibung': 'Gotisches Bürgerhaus aus dem 15. Jahrhundert', 'material': 'Sandstein', 'epoche': 'Gotik', 'kuenstler': 'Unbekannt', 'besonderheiten': 'Spitzbogenfenster mit Maßwerk'}]}]\n"
     ]
    }
   ],
   "source": [
    "# Abfrage Nr. 3\n",
    "\n",
    "result = [\n",
    "    haus for entry in db.search(Query().strassen.any(\n",
    "        lambda strasse: strasse['name'] == \"Leichhof\"\n",
    "    ))\n",
    "    for strasse in entry['strassen'] if strasse['name'] == \"Leichhof\"\n",
    "    for haus in strasse['hausnummern'] if haus['nummer'] == \"12\"\n",
    "]\n",
    "\n",
    "print(result)\n",
    "\n"
   ]
  },
  {
   "cell_type": "code",
   "execution_count": null,
   "id": "c2ad08b7-ec2f-49b8-808b-c5cc054bf5d8",
   "metadata": {},
   "outputs": [],
   "source": [
    "# Beispiel für das 'write_back' in früheren Versionen !ACHTUNG! nicht mehr aktuell !ACHTUNG!\n",
    "result = db.search(Query().strassen.any(lambda x: x['name'] == \"Leichhof\"))\n",
    "for item in result:\n",
    "    item['strassen'][0]['name'] = \"Neuer Name\"\n",
    "db.write_back(result)\n"
   ]
  },
  {
   "cell_type": "code",
   "execution_count": 15,
   "id": "1494ffbd-163a-4e38-a557-e616c560d1d1",
   "metadata": {},
   "outputs": [],
   "source": [
    "# Statt write_back können wir mit update arbeiten\n",
    "\n",
    "from tinydb import TinyDB, Query\n",
    "\n",
    "# Erstelle eine Datenbankinstanz\n",
    "db = TinyDB('db_Inventar.json')\n",
    "\n",
    "# Abfrage nach einem bestimmten Dokument\n",
    "Stadt = Query()\n",
    "result = db.search(Stadt.strassen.any(lambda x: x['name'] == \"Leichhof\"))\n",
    "\n",
    "# Angenommen, du möchtest den Namen der Straße ändern\n",
    "for item in result:\n",
    "    # Bearbeite das Dokument direkt\n",
    "    item['strassen'][0]['name'] = \"Neuer Name\"\n",
    "\n",
    "    # Aktualisiere das Dokument in der Datenbank\n",
    "    db.update(item, Stadt.stadt == \"Mainz\")\n"
   ]
  },
  {
   "cell_type": "code",
   "execution_count": 16,
   "id": "be70912c-1ee7-42b4-8c18-730bbec135fa",
   "metadata": {},
   "outputs": [
    {
     "name": "stdout",
     "output_type": "stream",
     "text": [
      "[{'stadt': 'Mainz', 'strassen': [{'name': 'Neuer Name', 'hausnummern': [{'nummer': '12', 'denkmale': [{'typ': 'Haus', 'beschreibung': 'Gotisches Bürgerhaus aus dem 15. Jahrhundert', 'material': 'Sandstein', 'epoche': 'Gotik', 'kuenstler': 'Unbekannt', 'besonderheiten': 'Spitzbogenfenster mit Maßwerk'}]}, {'nummer': '23', 'denkmale': [{'typ': 'Kunstwerk', 'beschreibung': 'Barockes Wandrelief', 'material': 'Marmor', 'epoche': 'Barock', 'kuenstler': 'Peter Paul Rubens', 'besonderheiten': 'Detailreiche Darstellung eines Engels'}]}]}]}]\n"
     ]
    }
   ],
   "source": [
    "print(db.all())"
   ]
  },
  {
   "cell_type": "code",
   "execution_count": 2,
   "id": "b54c734c-0b21-4b1c-ac10-eb1880e2e66f",
   "metadata": {},
   "outputs": [
    {
     "data": {
      "text/plain": [
       "[1]"
      ]
     },
     "execution_count": 2,
     "metadata": {},
     "output_type": "execute_result"
    }
   ],
   "source": [
    "# Einträge löschen\n",
    "# Löschen der Straße \"Neuer Name\"\n",
    "\n",
    "db.remove(Query().strassen.any(lambda street: street['name'] == \"Neuer Name\"))\n"
   ]
  },
  {
   "cell_type": "code",
   "execution_count": 3,
   "id": "e3b90031-9258-446c-8c01-6bcf4aa9b217",
   "metadata": {},
   "outputs": [
    {
     "name": "stdout",
     "output_type": "stream",
     "text": [
      "[]\n"
     ]
    }
   ],
   "source": [
    "print(db.all())"
   ]
  },
  {
   "cell_type": "code",
   "execution_count": 5,
   "id": "a2559f91-286d-4601-b3e8-db66db668f64",
   "metadata": {},
   "outputs": [
    {
     "data": {
      "text/plain": [
       "[1]"
      ]
     },
     "execution_count": 5,
     "metadata": {},
     "output_type": "execute_result"
    }
   ],
   "source": [
    "# Einzelnen Wert löschen durch \"update\"-Befehl\n",
    "from tinydb import TinyDB, Query\n",
    "\n",
    "# Initialisiere die Datenbank\n",
    "db = TinyDB('db_Inventar.json')\n",
    "\n",
    "# Suche den Wert \"Sandstein\" im Dokument und lösche ihn\n",
    "db.update(\n",
    "    lambda doc: [\n",
    "        denkmal.update({'material': None})  # Setze den Wert auf None\n",
    "        for strasse in doc['strassen']\n",
    "        for hausnummer in strasse['hausnummern']\n",
    "        for denkmal in hausnummer['denkmale']\n",
    "        if denkmal.get('material') == \"Sandstein\"  # Prüfe, ob der Wert \"Sandstein\" ist\n",
    "    ],\n",
    ")\n"
   ]
  },
  {
   "cell_type": "code",
   "execution_count": 13,
   "id": "2b951ef0-c5bb-47a9-b16a-36e060b05227",
   "metadata": {},
   "outputs": [
    {
     "name": "stdout",
     "output_type": "stream",
     "text": [
      "[{'stadt': 'Mainz', 'strassen': [{'name': 'Leichhof', 'hausnummern': [{'nummer': '12', 'denkmale': [{'typ': 'Haus', 'beschreibung': 'Gotisches Bürgerhaus aus dem 15. Jahrhundert', 'material': None, 'epoche': 'Gotik', 'kuenstler': 'Unbekannt', 'besonderheiten': 'Spitzbogenfenster mit Maßwerk'}]}, {'nummer': '23', 'denkmale': [{'typ': 'Kunstwerk', 'beschreibung': 'Barockes Wandrelief', 'material': 'Marmor', 'epoche': 'Barock', 'kuenstler': 'Peter Paul Rubens', 'besonderheiten': 'Detailreiche Darstellung eines Engels'}]}]}]}]\n"
     ]
    }
   ],
   "source": [
    "print(db.all())"
   ]
  },
  {
   "cell_type": "code",
   "execution_count": 16,
   "id": "0cd63ff3-6eb6-4591-91a9-00fbe09d5d77",
   "metadata": {},
   "outputs": [
    {
     "data": {
      "text/plain": [
       "[1]"
      ]
     },
     "execution_count": 16,
     "metadata": {},
     "output_type": "execute_result"
    }
   ],
   "source": [
    "# Einzelne Werte überschreiben mit Update\n",
    "from tinydb import TinyDB, Query\n",
    "\n",
    "db = TinyDB('db_Inventar.json')\n",
    "\n",
    "# Suche den Wert None und überschreibe ihn mit Sandstein\n",
    "db.update(\n",
    "    lambda doc: [\n",
    "        denkmal.update({'material': \"Sandstein\"})  \n",
    "        for strasse in doc['strassen']\n",
    "        for hausnummer in strasse['hausnummern']\n",
    "        for denkmal in hausnummer['denkmale']\n",
    "        if denkmal.get('material') == None  # Prüfe, ob der Wert \"None\" ist\n",
    "    ],\n",
    ")"
   ]
  },
  {
   "cell_type": "code",
   "execution_count": 18,
   "id": "8ae6fe87-0d34-4894-b490-d42db2071c2c",
   "metadata": {},
   "outputs": [
    {
     "data": {
      "text/plain": [
       "[1]"
      ]
     },
     "execution_count": 18,
     "metadata": {},
     "output_type": "execute_result"
    }
   ],
   "source": [
    "# Aktualisiere die Epoche für Hausnummer 12 in der Straße Leichhof\n",
    "db.update(\n",
    "    lambda doc: [\n",
    "        denkmal.update({'epoche': 'Neogotik'})  # Ersetze 'Gotik' durch 'Neogotik'\n",
    "        for strasse in doc['strassen']\n",
    "        if strasse['name'] == \"Leichhof\"  # Prüfe, ob es die Straße 'Leichhof' ist\n",
    "        for hausnummer in strasse['hausnummern']\n",
    "        if hausnummer['nummer'] == \"12\"  # Prüfe, ob es die Hausnummer '12' ist\n",
    "        for denkmal in hausnummer['denkmale']\n",
    "        if denkmal.get('epoche') == \"Gotik\"  # Prüfe, ob die Epoche 'Gotik' ist\n",
    "    ]\n",
    ")\n"
   ]
  },
  {
   "cell_type": "code",
   "execution_count": 24,
   "id": "ec347537-93e5-456b-afe7-fbf65a1fb616",
   "metadata": {},
   "outputs": [
    {
     "name": "stdout",
     "output_type": "stream",
     "text": [
      "[{'stadt': 'Mainz', 'strassen': [{'name': 'Leichhof', 'hausnummern': [{'nummer': '12', 'denkmale': [{'typ': 'Haus', 'beschreibung': 'Gotisches Bürgerhaus aus dem 15. Jahrhundert', 'material': 'Sandstein', 'epoche': 'Neogotik', 'kuenstler': 'Unbekannt', 'besonderheiten': 'Spitzbogenfenster mit Maßwerk'}, {'typ': 'Skulptur', 'beschreibung': 'Moderne Skulptur eines Adlers', 'material': 'Bronze', 'epoche': 'Moderne', 'kuenstler': 'Max Mustermann', 'besonderheiten': 'Flügelspannweite von 2 Metern'}]}, {'nummer': '23', 'denkmale': [{'typ': 'Kunstwerk', 'beschreibung': 'Barockes Wandrelief', 'material': 'Marmor', 'epoche': 'Barock', 'kuenstler': 'Peter Paul Rubens', 'besonderheiten': 'Detailreiche Darstellung eines Engels'}]}]}]}]\n"
     ]
    }
   ],
   "source": [
    "# Neues Denkmal zur bestehenden Hausnummer 12 hinzufügen\n",
    "\n",
    "from tinydb import TinyDB, Query\n",
    "\n",
    "db = TinyDB('db_Inventar.json')\n",
    "\n",
    "# Definiere das neue Denkmal, das hinzugefügt werden soll\n",
    "neues_denkmal = {\n",
    "    \"typ\": \"Skulptur\",\n",
    "    \"beschreibung\": \"Moderne Skulptur eines Adlers\",\n",
    "    \"material\": \"Bronze\",\n",
    "    \"epoche\": \"Moderne\",\n",
    "    \"kuenstler\": \"Max Mustermann\",\n",
    "    \"besonderheiten\": \"Flügelspannweite von 2 Metern\"\n",
    "}\n",
    "\n",
    "# Suche nach der Straße \"Leichhof\" und Hausnummer \"12\"\n",
    "strasse = Query()\n",
    "\n",
    "result = db.search(strasse.strassen.any(\n",
    "    lambda x: x['name'] == \"Leichhof\" and any(h['nummer'] == \"12\" for h in x['hausnummern'])\n",
    "))\n",
    "\n",
    "# Wenn das Dokument existiert, füge das neue Denkmal hinzu\n",
    "if result:\n",
    "    for strasse_entry in result:\n",
    "        for hausnummer_entry in strasse_entry['strassen']:\n",
    "            for haus in hausnummer_entry['hausnummern']:\n",
    "                if haus['nummer'] == \"12\":\n",
    "                    haus['denkmale'].append(neues_denkmal)  # Füge das neue Denkmal hinzu\n",
    "\n",
    "    # Das geänderte Dokument in der Datenbank speichern\n",
    "    db.update(result[0], strasse.strassen.any(\n",
    "        lambda x: x['name'] == \"Leichhof\" and any(h['nummer'] == \"12\" for h in x['hausnummern'])\n",
    "    ))\n",
    "\n",
    "print(db.all())\n"
   ]
  },
  {
   "cell_type": "code",
   "execution_count": 28,
   "id": "caabb67f-6e36-4129-9aca-d2048ea564d7",
   "metadata": {},
   "outputs": [],
   "source": [
    "# Ein Denkmal zu neuee Hausnummer zu einer bestehenden Straße hinzufügen\n",
    "from tinydb import TinyDB, Query\n",
    "\n",
    "db = TinyDB('db_Inventar.json')\n",
    "\n",
    "neues_denkmal = {\n",
    "    \"typ\": \"Gedenktafel\",\n",
    "    \"beschreibung\": \"Gedenktafel für die Geschichte der Straße\",\n",
    "    \"material\": \"Bronze\",\n",
    "    \"epoche\": \"Moderne\",\n",
    "    \"kuenstler\": \"Künstlername\",\n",
    "    \"besonderheiten\": \"Eingerahmt und an der Wand montiert\"\n",
    "}\n",
    "\n",
    "# Definiere die neue Hausnummer mit dem Denkmal\n",
    "neue_hausnummer = {\n",
    "    \"nummer\": \"24\",\n",
    "    \"denkmale\": [neues_denkmal]  # Das Denkmal wird als Liste hinzugefügt\n",
    "}\n",
    "\n",
    "# Suche nach der Straße \"Leichhof\"\n",
    "strasse = Query()\n",
    "\n",
    "result = db.search(strasse.strassen.any(\n",
    "    lambda x: x['name'] == \"Leichhof\"\n",
    "))\n",
    "\n",
    "# Wenn das Dokument existiert, füge die neue Hausnummer und das Denkmal hinzu\n",
    "if result:\n",
    "    for strasse_entry in result:\n",
    "        strasse_entry['strassen'][0]['hausnummern'].append(neue_hausnummer)\n",
    "\n",
    "    # Aktualisiere das Dokument in der Datenbank mit der neuen Hausnummer und dem Denkmal\n",
    "    db.update(result[0], strasse.strassen.any(\n",
    "        lambda x: x['name'] == \"Leichhof\"\n",
    "    ))\n"
   ]
  },
  {
   "cell_type": "code",
   "execution_count": 29,
   "id": "a00ac879-5211-45d3-af7c-2d56576e0c2d",
   "metadata": {},
   "outputs": [
    {
     "data": {
      "text/plain": [
       "2"
      ]
     },
     "execution_count": 29,
     "metadata": {},
     "output_type": "execute_result"
    }
   ],
   "source": [
    "# Beispiel für das Hinzufügen einer neuen Straße mit Hausnummern und Denkmälern\n",
    "db.insert({\n",
    "    \"stadt\": \"Mainz\",\n",
    "    \"strassen\": [\n",
    "        {\n",
    "            \"name\": \"Neue Straße\",\n",
    "            \"hausnummern\": [\n",
    "                {\n",
    "                    \"nummer\": \"1\",\n",
    "                    \"denkmale\": [\n",
    "                        {\n",
    "                            \"typ\": \"Haus\",\n",
    "                            \"beschreibung\": \"Neues Gebäude im modernen Stil\",\n",
    "                            \"material\": \"Beton\",\n",
    "                            \"epoche\": \"Moderne\",\n",
    "                            \"kuenstler\": \"Max Mustermann\",\n",
    "                            \"besonderheiten\": \"Fassadenverkleidung aus Glas\"\n",
    "                        }\n",
    "                    ]\n",
    "                }\n",
    "            ]\n",
    "        }\n",
    "    ]\n",
    "})\n"
   ]
  }
 ],
 "metadata": {
  "kernelspec": {
   "display_name": "Python 3 (ipykernel)",
   "language": "python",
   "name": "python3"
  },
  "language_info": {
   "codemirror_mode": {
    "name": "ipython",
    "version": 3
   },
   "file_extension": ".py",
   "mimetype": "text/x-python",
   "name": "python",
   "nbconvert_exporter": "python",
   "pygments_lexer": "ipython3",
   "version": "3.11.4"
  }
 },
 "nbformat": 4,
 "nbformat_minor": 5
}
